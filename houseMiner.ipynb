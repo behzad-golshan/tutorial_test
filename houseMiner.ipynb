{
 "cells": [
  {
   "cell_type": "code",
   "execution_count": 1,
   "metadata": {
    "collapsed": false
   },
   "outputs": [
    {
     "name": "stderr",
     "output_type": "stream",
     "text": [
      "/Users/lexingtong/.conda/envs/BigGorilla/lib/python2.7/site-packages/IPython/core/interactiveshell.py:2717: DtypeWarning: Columns (20,30,32,34,84) have mixed types. Specify dtype option on import or set low_memory=False.\n",
      "  interactivity=interactivity, compiler=compiler, result=result)\n"
     ]
    }
   ],
   "source": [
    "# The program does some simple analysis on the description of houses\n",
    "# to examine how hard it is to extract the desired features.\n",
    "import re\n",
    "import pandas as pd\n",
    "%matplotlib inline\n",
    "import matplotlib.pyplot as plt\n",
    "import operator\n",
    "\n",
    "# read the dataset and get the desired subset \n",
    "temp = pd.read_csv('MLS_LISTING.csv')\n",
    "data = temp[['public_remarks']].copy()   # get the column that has the descriptions\n",
    "data['public_remarks'] = data['public_remarks'].astype(str)        # transform all values (including None) to string\n",
    "data['public_remarks'] = data.apply(lambda x: x['public_remarks'].lower().replace(',', ' ').replace('.', ' '), axis=1)   # lower case the descriptions\n",
    "data['word_count'] = data.apply(lambda x: len(x['public_remarks'].split()), axis=1)   # counting the words"
   ]
  },
  {
   "cell_type": "markdown",
   "metadata": {},
   "source": [
    "## How long are the house descriptions?"
   ]
  },
  {
   "cell_type": "code",
   "execution_count": 2,
   "metadata": {
    "collapsed": false
   },
   "outputs": [
    {
     "name": "stdout",
     "output_type": "stream",
     "text": [
      "The average description is of length 82\n"
     ]
    },
    {
     "data": {
      "image/png": "[encoded data removed]",
      "text/plain": [
       "<matplotlib.figure.Figure at 0x1046c4810>"
      ]
     },
     "metadata": {},
     "output_type": "display_data"
    }
   ],
   "source": [
    "data[['word_count']].hist(bins=20)\n",
    "print 'The average description is of length {}'.format(sum(data['word_count'])/len(data))"
   ]
  },
  {
   "cell_type": "markdown",
   "metadata": {},
   "source": [
    "## How often attribute names are mentioned?"
   ]
  },
  {
   "cell_type": "code",
   "execution_count": 3,
   "metadata": {
    "collapsed": false
   },
   "outputs": [],
   "source": [
    "feature_values = {}\n",
    "feature_values['style'] = ['a-frame', 'art deco', 'arts & crafts', 'barn type', 'brown shingle',\n",
    "                           'bungalow', 'cabin', 'cape cod', 'chalet', 'colonial', 'contemporary',\n",
    "                           'cottage', 'cottage/bungalow', 'country english', 'craftsman', 'custom',\n",
    "                           'dome', 'edwardian', 'eichler', 'english', 'farm house', 'farmhouse',\n",
    "                           'fixer-handyman special', 'flat', 'french', 'french country',\n",
    "                           'french provincial', 'french/norman', 'georgian', 'log', 'luxury', 'macgregor',\n",
    "                           'manufactured', 'manufactured housing', 'marina', 'mediterranean',\n",
    "                           'modern/high tech', 'modern/hi-tech', 'modular/mobile', 'normandy', 'prairie',\n",
    "                           'ranch', 'redwood glass', 'rustic', 'spanish', 'spanish/mediterr', 'townhome',\n",
    "                           'tract', 'traditional', 'tudor', 'victorian', 'vintage', 'yurt']\n",
    "feature_values['view'] = ['bay', 'bridge', 'canyon', 'city', 'downtown', 'forest', 'garden', 'golf course',\n",
    "                          'greenbelt', 'hills', 'lake', 'lights', 'mountains', 'neighborhood', 'ocean', 'panoramic',\n",
    "                          'park', 'partial', 'pasture', 'ridge', 'valley', 'vineyard', 'water', 'woods']\n",
    "feature_values['floor'] = ['adobe', 'bamboo', 'brick', 'carpet', 'ceramic tile', 'clay', 'concrete',\n",
    "                           'concrete slab', 'cork', 'granite', 'hardwood', 'hardwood floors',\n",
    "                           'hardwood flrs throughout', 'laminate', 'laminated', 'linoleum',\n",
    "                           'linoleum/vinyl', 'marble', 'natural fiber carpet', 'none', 'other',\n",
    "                           'other-attch', 'other-rmks', 'painted/stained', 'parquet', 'partial carpet',\n",
    "                           'partial hardwood', 'partially carpeted', 'pavers', 'reclaimed', 'recycled carpet',\n",
    "                           'see remarks', 'sheet vinyl', 'simulated wood', 'slate', 'softwood',\n",
    "                           'stained concrete', 'stamped', 'stone', 'stone (marble)', 'stone/travertine',\n",
    "                           'terrazzo', 'tile', 'vinyl', 'vinyl tile', 'wall to wall carpet',\n",
    "                           'wall to wall carpeting', 'wall-to-wall carpet', 'wood', 'wood laminate',\n",
    "                           'wood under carpet']"
   ]
  },
  {
   "cell_type": "code",
   "execution_count": 4,
   "metadata": {
    "collapsed": false,
    "scrolled": true
   },
   "outputs": [
    {
     "name": "stdout",
     "output_type": "stream",
     "text": [
      "Total number of descriptions is 43548\n",
      "\"style\" appears in 3286 descriptions\n",
      "\"floor\" appears in 22951 descriptions\n",
      "\"view\" appears in 8115 descriptions\n"
     ]
    }
   ],
   "source": [
    "print 'Total number of descriptions is {}'.format(len(data))\n",
    "feature_count = {}\n",
    "for feature in feature_values:\n",
    "    feature_count[feature] = sum(data.apply(lambda x: feature in x['public_remarks'], axis=1))\n",
    "    print '\"{}\" appears in {} descriptions'.format(feature, feature_count[feature])"
   ]
  },
  {
   "cell_type": "markdown",
   "metadata": {},
   "source": [
    "## How is the word that appears right before the feature's name?"
   ]
  },
  {
   "cell_type": "code",
   "execution_count": 5,
   "metadata": {
    "collapsed": false
   },
   "outputs": [],
   "source": [
    "# the function returns the word before 'keyword' in the 'text'\n",
    "def before_token(text, keyword):\n",
    "    try:\n",
    "        tokens = text.split()\n",
    "        index = tokens.index(keyword)\n",
    "        return tokens[index - 1]\n",
    "    except ValueError:\n",
    "        return None\n",
    "\n",
    "for feature in feature_values:\n",
    "    data['before_' + feature] = data.apply(lambda x: before_token(x['public_remarks'], feature), axis=1)"
   ]
  },
  {
   "cell_type": "markdown",
   "metadata": {},
   "source": [
    "#### what are the top words that appear before each feature?"
   ]
  },
  {
   "cell_type": "code",
   "execution_count": 6,
   "metadata": {
    "collapsed": false
   },
   "outputs": [
    {
     "name": "stdout",
     "output_type": "stream",
     "text": [
      "The top 30 words appearing before \"style\" are\n",
      "[('ranch', 334), ('resort', 237), ('craftsman', 115), ('colonial', 66), ('cape', 45), ('cottage', 41), ('modern', 37), ('cod', 37), ('and', 36), ('country', 35), ('in', 31), ('mediterranean', 28), ('townhouse', 28), ('shaker', 28), ('traditional', 27), ('spanish', 26), ('contemporary', 25), ('european', 25), ('galley', 24), ('loft', 23), ('life', 21), ('&', 17), ('tudor', 17), ('bungalow', 17), ('the', 17), ('gourmet', 16), ('with', 14), ('victorian', 13), ('of', 13), ('farm', 12)]\n",
      "--------\n",
      "The top 30 words appearing before \"floor\" are\n",
      "[('open', 3272), ('first', 1797), ('main', 1252), ('1st', 818), ('2nd', 545), ('second', 510), ('tile', 254), ('split', 227), ('top', 168), ('spacious', 168), ('great', 158), ('ground', 139), ('hardwood', 134), ('3rd', 121), ('the', 104), ('concept', 98), ('wood', 89), ('third', 88), ('bedroom', 82), ('with', 79), ('one', 77), ('and', 68), ('flowing', 60), ('new', 57), ('tiled', 49), ('laminate', 47), ('flexible', 45), ('a', 45), ('room', 42), ('concrete', 42)]\n",
      "--------\n",
      "The top 30 words appearing before \"view\" are\n",
      "[('to', 182), ('a', 177), ('the', 140), ('lake', 126), ('beautiful', 124), ('great', 114), ('ocean', 93), ('water', 83), ('with', 71), ('mountain', 70), ('and', 63), ('panoramic', 49), ('spectacular', 46), ('pond', 41), ('gorgeous', 37), ('course', 35), ('amazing', 33), ('nice', 30), ('wonderful', 25), ('breathtaking', 22), ('come', 22), ('wooded', 21), ('open', 20), ('scenic', 19), ('bay', 17), ('&', 17), ('unobstructed', 16), ('city', 16), ('park', 14), ('stunning', 14)]\n",
      "--------\n"
     ]
    }
   ],
   "source": [
    "for feature in feature_values:\n",
    "    print 'The top 30 words appearing before \"{}\" are'.format(feature)\n",
    "    print sorted(data['before_' + feature].value_counts()[:30].to_dict().items(),\n",
    "                 key=operator.itemgetter(1), reverse=True)\n",
    "    print '--------'"
   ]
  },
  {
   "cell_type": "markdown",
   "metadata": {},
   "source": [
    "#### How often the word right before the feature's name is a valid value for the feature?"
   ]
  },
  {
   "cell_type": "code",
   "execution_count": 7,
   "metadata": {
    "collapsed": false
   },
   "outputs": [
    {
     "name": "stdout",
     "output_type": "stream",
     "text": [
      "The word before \"style\" is valid in 788 instances out of 3286\n",
      "The word before \"floor\" is valid in 654 instances out of 22951\n",
      "The word before \"view\" is valid in 451 instances out of 8115\n"
     ]
    }
   ],
   "source": [
    "for feature in feature_values:\n",
    "    print 'The word before \"{}\" is valid in {} instances out of {}'.format(\n",
    "        feature, sum(data.apply(lambda x: x['before_' + feature] in feature_values[feature], axis=1)), \n",
    "        feature_count[feature]) "
   ]
  },
  {
   "cell_type": "markdown",
   "metadata": {},
   "source": [
    "#### How often a feature value appears in the description?"
   ]
  },
  {
   "cell_type": "code",
   "execution_count": 8,
   "metadata": {
    "collapsed": false
   },
   "outputs": [
    {
     "name": "stdout",
     "output_type": "stream",
     "text": [
      "A possible value for feature \"style\" appears in 15100 instances.\n",
      "A possible value for feature \"floor\" appears in 24150 instances.\n",
      "A possible value for feature \"view\" appears in 19490 instances.\n"
     ]
    }
   ],
   "source": [
    "# the function returns true if any of the words in the 'keyword_list' is present in the text\n",
    "def has_any(text, keyword_list):\n",
    "    tokens = text.split()\n",
    "    for keyword in keyword_list:\n",
    "        if keyword in tokens: return True\n",
    "    return False\n",
    "        \n",
    "for feature in feature_values:\n",
    "    print 'A possible value for feature \"{}\" appears in {} instances.'.format(\n",
    "        feature, sum(data.apply(lambda x: has_any(x['public_remarks'], feature_values[feature]), axis=1)))"
   ]
  },
  {
   "cell_type": "markdown",
   "metadata": {},
   "source": [
    "#### How often a possible value for a feature co-occurs with the feature name?"
   ]
  },
  {
   "cell_type": "code",
   "execution_count": 9,
   "metadata": {
    "collapsed": false
   },
   "outputs": [
    {
     "name": "stdout",
     "output_type": "stream",
     "text": [
      "A possible value for feature \"style\" co-occurs with feature's name in 1469 instances.\n",
      "A possible value for feature \"floor\" co-occurs with feature's name in 9119 instances.\n",
      "A possible value for feature \"view\" co-occurs with feature's name in 1897 instances.\n"
     ]
    }
   ],
   "source": [
    "# the function returns true if any of the words in the 'keyword_list' co-occur with feature in the text\n",
    "def cooccurs(text, keyword_list, feature):\n",
    "    tokens = text.split()\n",
    "    if feature not in tokens: return False\n",
    "    for keyword in keyword_list:\n",
    "        if keyword in tokens: return True\n",
    "    return False\n",
    "\n",
    "for feature in feature_values:\n",
    "    print 'A possible value for feature \"{}\" co-occurs with feature\\'s name in {} instances.'.format(\n",
    "        feature, sum(data.apply(lambda x: cooccurs(x['public_remarks'], feature_values[feature], feature), axis=1)))"
   ]
  },
  {
   "cell_type": "markdown",
   "metadata": {},
   "source": [
    "## What can we say about \"remodel\"?"
   ]
  },
  {
   "cell_type": "code",
   "execution_count": 10,
   "metadata": {
    "collapsed": false
   },
   "outputs": [
    {
     "name": "stdout",
     "output_type": "stream",
     "text": [
      "\"remodel|remodeled\" appears in 3129 descriptions\n"
     ]
    }
   ],
   "source": [
    "remodel_count = sum(data.apply(lambda x: 'remodel' in x['public_remarks'] or\n",
    "                                        'remodeled' in x['public_remarks'], axis=1))\n",
    "print '\"remodel|remodeled\" appears in {} descriptions'.format(remodel_count)"
   ]
  },
  {
   "cell_type": "code",
   "execution_count": 11,
   "metadata": {
    "collapsed": false
   },
   "outputs": [],
   "source": [
    "# the function returns the k words after 'keyword' in the 'text'\n",
    "def after_token(text, keyword):\n",
    "    try:\n",
    "        tokens = text.split()\n",
    "        index = tokens.index(keyword)\n",
    "        return tokens[index + 1]\n",
    "    except ValueError:\n",
    "        return None\n",
    "    except IndexError:\n",
    "        return None\n",
    "\n",
    "data['after_remodel'] = data.apply(lambda x: after_token(x['public_remarks'], 'remodel'), axis=1)\n",
    "#data['after_remodel'] = data.apply(lambda x: after_token(x['public_remarks'], 'remodeled'), axis=1)\n",
    "data['after_remodel'] = data.apply(lambda x: (after_token(x['public_remarks'], 'remodeled')\n",
    "                                   if x['after_remodel'] is None else x['after_remodel']), axis=1)"
   ]
  },
  {
   "cell_type": "markdown",
   "metadata": {},
   "source": [
    "#### What are the top words that appear after \"remodel|remodeled\"?"
   ]
  },
  {
   "cell_type": "code",
   "execution_count": 12,
   "metadata": {
    "collapsed": false
   },
   "outputs": [
    {
     "name": "stdout",
     "output_type": "stream",
     "text": [
      "The top 30 words appearing before \"remodel|remodeled\" are\n",
      "[('kitchen', 437), ('home', 220), ('with', 201), ('in', 146), ('and', 137), ('bathroom', 68), ('bathrooms', 64), ('3', 61), ('master', 56), ('bath', 47), ('from', 38), ('to', 38), ('4', 35), ('2', 32), ('full', 31), ('baths', 30), ('&', 30), ('the', 29), ('inside', 27), ('this', 25), ('new', 24), ('ranch', 21), ('or', 18), ('throughout', 17), ('large', 14), ('on', 13), ('single', 12), ('by', 12), ('including', 11), ('unit', 11)]\n"
     ]
    }
   ],
   "source": [
    "print 'The top 30 words appearing before \"remodel|remodeled\" are'\n",
    "print sorted(data['after_remodel'].value_counts()[:30].to_dict().items(), key=operator.itemgetter(1), reverse=True)"
   ]
  }
 ],
 "metadata": {
  "anaconda-cloud": {},
  "kernelspec": {
   "display_name": "Python 2",
   "language": "python",
   "name": "python2"
  },
  "language_info": {
   "codemirror_mode": {
    "name": "ipython",
    "version": 2
   },
   "file_extension": ".py",
   "mimetype": "text/x-python",
   "name": "python",
   "nbconvert_exporter": "python",
   "pygments_lexer": "ipython2",
   "version": "2.7.12"
  }
 },
 "nbformat": 4,
 "nbformat_minor": 1
}
